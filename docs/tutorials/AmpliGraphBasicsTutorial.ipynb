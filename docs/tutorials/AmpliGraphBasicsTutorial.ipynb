{
  "nbformat": 4,
  "nbformat_minor": 0,
  "metadata": {
    "kernelspec": {
      "display_name": "Python 3",
      "language": "python",
      "name": "python3"
    },
    "language_info": {
      "codemirror_mode": {
        "name": "ipython",
        "version": 3
      },
      "file_extension": ".py",
      "mimetype": "text/x-python",
      "name": "python",
      "nbconvert_exporter": "python",
      "pygments_lexer": "ipython3",
      "version": "3.7.3"
    },
    "colab": {
      "name": "AmpliGraphBasicsTutorial.ipynb",
      "provenance": [],
      "include_colab_link": true
    }
  },
  "cells": [
    {
      "cell_type": "markdown",
      "metadata": {
        "id": "view-in-github",
        "colab_type": "text"
      },
      "source": [
        "<a href=\"https://colab.research.google.com/github/prant1719/BADS7201/blob/main/docs/tutorials/AmpliGraphBasicsTutorial.ipynb\" target=\"_parent\"><img src=\"https://colab.research.google.com/assets/colab-badge.svg\" alt=\"Open In Colab\"/></a>"
      ]
    },
    {
      "cell_type": "code",
      "metadata": {
        "id": "g7dw5U-HakQI",
        "outputId": "38cf7bf2-7c24-4960-aa35-701e98e2d7c2",
        "colab": {
          "base_uri": "https://localhost:8080/"
        }
      },
      "source": [
        "!pip install ampligraph"
      ],
      "execution_count": 8,
      "outputs": [
        {
          "output_type": "stream",
          "name": "stdout",
          "text": [
            "\u001b[33mWARNING: Ignoring invalid distribution -ensorflow (/usr/local/lib/python3.7/dist-packages)\u001b[0m\n",
            "\u001b[33mWARNING: Ignoring invalid distribution -ensorflow (/usr/local/lib/python3.7/dist-packages)\u001b[0m\n",
            "Requirement already satisfied: ampligraph in /usr/local/lib/python3.7/dist-packages (1.4.0)\n",
            "Requirement already satisfied: flake8>=3.7.7 in /usr/local/lib/python3.7/dist-packages (from ampligraph) (4.0.1)\n",
            "Requirement already satisfied: beautifultable>=0.7.0 in /usr/local/lib/python3.7/dist-packages (from ampligraph) (1.0.1)\n",
            "Requirement already satisfied: recommonmark==0.4.0 in /usr/local/lib/python3.7/dist-packages (from ampligraph) (0.4.0)\n",
            "Requirement already satisfied: pandas>=0.23.1 in /usr/local/lib/python3.7/dist-packages (from ampligraph) (1.1.5)\n",
            "Requirement already satisfied: pyyaml>=3.13 in /usr/local/lib/python3.7/dist-packages (from ampligraph) (3.13)\n",
            "Requirement already satisfied: rdflib>=4.2.2 in /usr/local/lib/python3.7/dist-packages (from ampligraph) (6.0.2)\n",
            "Requirement already satisfied: scipy>=1.3.0 in /usr/local/lib/python3.7/dist-packages (from ampligraph) (1.4.1)\n",
            "Requirement already satisfied: networkx>=2.3 in /usr/local/lib/python3.7/dist-packages (from ampligraph) (2.6.3)\n",
            "Requirement already satisfied: setuptools>=36 in /usr/local/lib/python3.7/dist-packages (from ampligraph) (57.4.0)\n",
            "Requirement already satisfied: numpy>=1.14.3 in /usr/local/lib/python3.7/dist-packages (from ampligraph) (1.19.5)\n",
            "Requirement already satisfied: sphinxcontrib-bibtex==0.4.2 in /usr/local/lib/python3.7/dist-packages (from ampligraph) (0.4.2)\n",
            "Requirement already satisfied: sphinx-rtd-theme==0.4.3 in /usr/local/lib/python3.7/dist-packages (from ampligraph) (0.4.3)\n",
            "Requirement already satisfied: pytest>=3.5.1 in /usr/local/lib/python3.7/dist-packages (from ampligraph) (3.6.4)\n",
            "Requirement already satisfied: tqdm>=4.23.4 in /usr/local/lib/python3.7/dist-packages (from ampligraph) (4.62.3)\n",
            "Requirement already satisfied: sphinx<3,>=2.2 in /usr/local/lib/python3.7/dist-packages (from ampligraph) (2.4.4)\n",
            "Requirement already satisfied: scikit-learn>=0.19.1 in /usr/local/lib/python3.7/dist-packages (from ampligraph) (0.22.2.post1)\n",
            "Requirement already satisfied: docutils>=0.11 in /usr/local/lib/python3.7/dist-packages (from recommonmark==0.4.0->ampligraph) (0.17.1)\n",
            "Requirement already satisfied: commonmark<=0.5.4 in /usr/local/lib/python3.7/dist-packages (from recommonmark==0.4.0->ampligraph) (0.5.4)\n",
            "Requirement already satisfied: six>=1.4.1 in /usr/local/lib/python3.7/dist-packages (from sphinxcontrib-bibtex==0.4.2->ampligraph) (1.15.0)\n",
            "Requirement already satisfied: pybtex-docutils>=0.2.0 in /usr/local/lib/python3.7/dist-packages (from sphinxcontrib-bibtex==0.4.2->ampligraph) (1.0.1)\n",
            "Requirement already satisfied: pybtex>=0.20 in /usr/local/lib/python3.7/dist-packages (from sphinxcontrib-bibtex==0.4.2->ampligraph) (0.24.0)\n",
            "Requirement already satisfied: oset>=0.1.3 in /usr/local/lib/python3.7/dist-packages (from sphinxcontrib-bibtex==0.4.2->ampligraph) (0.1.3)\n",
            "Requirement already satisfied: wcwidth in /usr/local/lib/python3.7/dist-packages (from beautifultable>=0.7.0->ampligraph) (0.2.5)\n",
            "Requirement already satisfied: mccabe<0.7.0,>=0.6.0 in /usr/local/lib/python3.7/dist-packages (from flake8>=3.7.7->ampligraph) (0.6.1)\n",
            "Requirement already satisfied: pycodestyle<2.9.0,>=2.8.0 in /usr/local/lib/python3.7/dist-packages (from flake8>=3.7.7->ampligraph) (2.8.0)\n",
            "Requirement already satisfied: importlib-metadata<4.3 in /usr/local/lib/python3.7/dist-packages (from flake8>=3.7.7->ampligraph) (4.2.0)\n",
            "Requirement already satisfied: pyflakes<2.5.0,>=2.4.0 in /usr/local/lib/python3.7/dist-packages (from flake8>=3.7.7->ampligraph) (2.4.0)\n",
            "Requirement already satisfied: zipp>=0.5 in /usr/local/lib/python3.7/dist-packages (from importlib-metadata<4.3->flake8>=3.7.7->ampligraph) (3.6.0)\n",
            "Requirement already satisfied: typing-extensions>=3.6.4 in /usr/local/lib/python3.7/dist-packages (from importlib-metadata<4.3->flake8>=3.7.7->ampligraph) (3.7.4.3)\n",
            "Requirement already satisfied: python-dateutil>=2.7.3 in /usr/local/lib/python3.7/dist-packages (from pandas>=0.23.1->ampligraph) (2.8.2)\n",
            "Requirement already satisfied: pytz>=2017.2 in /usr/local/lib/python3.7/dist-packages (from pandas>=0.23.1->ampligraph) (2018.9)\n",
            "Requirement already satisfied: latexcodec>=1.0.4 in /usr/local/lib/python3.7/dist-packages (from pybtex>=0.20->sphinxcontrib-bibtex==0.4.2->ampligraph) (2.0.1)\n",
            "Requirement already satisfied: atomicwrites>=1.0 in /usr/local/lib/python3.7/dist-packages (from pytest>=3.5.1->ampligraph) (1.4.0)\n",
            "Requirement already satisfied: pluggy<0.8,>=0.5 in /usr/local/lib/python3.7/dist-packages (from pytest>=3.5.1->ampligraph) (0.7.1)\n",
            "Requirement already satisfied: py>=1.5.0 in /usr/local/lib/python3.7/dist-packages (from pytest>=3.5.1->ampligraph) (1.10.0)\n",
            "Requirement already satisfied: more-itertools>=4.0.0 in /usr/local/lib/python3.7/dist-packages (from pytest>=3.5.1->ampligraph) (8.10.0)\n",
            "Requirement already satisfied: attrs>=17.4.0 in /usr/local/lib/python3.7/dist-packages (from pytest>=3.5.1->ampligraph) (21.2.0)\n",
            "Requirement already satisfied: pyparsing in /usr/local/lib/python3.7/dist-packages (from rdflib>=4.2.2->ampligraph) (2.4.7)\n",
            "Requirement already satisfied: isodate in /usr/local/lib/python3.7/dist-packages (from rdflib>=4.2.2->ampligraph) (0.6.0)\n",
            "Requirement already satisfied: joblib>=0.11 in /usr/local/lib/python3.7/dist-packages (from scikit-learn>=0.19.1->ampligraph) (1.0.1)\n",
            "Requirement already satisfied: Pygments>=2.0 in /usr/local/lib/python3.7/dist-packages (from sphinx<3,>=2.2->ampligraph) (2.6.1)\n",
            "Requirement already satisfied: babel!=2.0,>=1.3 in /usr/local/lib/python3.7/dist-packages (from sphinx<3,>=2.2->ampligraph) (2.9.1)\n",
            "Requirement already satisfied: sphinxcontrib-applehelp in /usr/local/lib/python3.7/dist-packages (from sphinx<3,>=2.2->ampligraph) (1.0.2)\n",
            "Requirement already satisfied: Jinja2>=2.3 in /usr/local/lib/python3.7/dist-packages (from sphinx<3,>=2.2->ampligraph) (2.11.3)\n",
            "Requirement already satisfied: imagesize in /usr/local/lib/python3.7/dist-packages (from sphinx<3,>=2.2->ampligraph) (1.2.0)\n",
            "Requirement already satisfied: requests>=2.5.0 in /usr/local/lib/python3.7/dist-packages (from sphinx<3,>=2.2->ampligraph) (2.23.0)\n",
            "Requirement already satisfied: sphinxcontrib-jsmath in /usr/local/lib/python3.7/dist-packages (from sphinx<3,>=2.2->ampligraph) (1.0.1)\n",
            "Requirement already satisfied: sphinxcontrib-serializinghtml in /usr/local/lib/python3.7/dist-packages (from sphinx<3,>=2.2->ampligraph) (1.1.5)\n",
            "Requirement already satisfied: alabaster<0.8,>=0.7 in /usr/local/lib/python3.7/dist-packages (from sphinx<3,>=2.2->ampligraph) (0.7.12)\n",
            "Requirement already satisfied: sphinxcontrib-qthelp in /usr/local/lib/python3.7/dist-packages (from sphinx<3,>=2.2->ampligraph) (1.0.3)\n",
            "Requirement already satisfied: packaging in /usr/local/lib/python3.7/dist-packages (from sphinx<3,>=2.2->ampligraph) (21.0)\n",
            "Requirement already satisfied: snowballstemmer>=1.1 in /usr/local/lib/python3.7/dist-packages (from sphinx<3,>=2.2->ampligraph) (2.1.0)\n",
            "Requirement already satisfied: sphinxcontrib-htmlhelp in /usr/local/lib/python3.7/dist-packages (from sphinx<3,>=2.2->ampligraph) (2.0.0)\n",
            "Requirement already satisfied: sphinxcontrib-devhelp in /usr/local/lib/python3.7/dist-packages (from sphinx<3,>=2.2->ampligraph) (1.0.2)\n",
            "Requirement already satisfied: MarkupSafe>=0.23 in /usr/local/lib/python3.7/dist-packages (from Jinja2>=2.3->sphinx<3,>=2.2->ampligraph) (2.0.1)\n",
            "Requirement already satisfied: idna<3,>=2.5 in /usr/local/lib/python3.7/dist-packages (from requests>=2.5.0->sphinx<3,>=2.2->ampligraph) (2.10)\n",
            "Requirement already satisfied: chardet<4,>=3.0.2 in /usr/local/lib/python3.7/dist-packages (from requests>=2.5.0->sphinx<3,>=2.2->ampligraph) (3.0.4)\n",
            "Requirement already satisfied: urllib3!=1.25.0,!=1.25.1,<1.26,>=1.21.1 in /usr/local/lib/python3.7/dist-packages (from requests>=2.5.0->sphinx<3,>=2.2->ampligraph) (1.24.3)\n",
            "Requirement already satisfied: certifi>=2017.4.17 in /usr/local/lib/python3.7/dist-packages (from requests>=2.5.0->sphinx<3,>=2.2->ampligraph) (2021.5.30)\n",
            "\u001b[33mWARNING: Ignoring invalid distribution -ensorflow (/usr/local/lib/python3.7/dist-packages)\u001b[0m\n"
          ]
        }
      ]
    },
    {
      "cell_type": "code",
      "metadata": {
        "id": "j4PpEh1Uax7k",
        "outputId": "727e976e-f4b4-4adb-da07-fcceccb8e1e5",
        "colab": {
          "base_uri": "https://localhost:8080/",
          "height": 1000
        }
      },
      "source": [
        "!pip install \"tensorflow>=1.15.2,<2.0\""
      ],
      "execution_count": 18,
      "outputs": [
        {
          "output_type": "stream",
          "name": "stdout",
          "text": [
            "\u001b[33mWARNING: Ignoring invalid distribution -ensorflow (/usr/local/lib/python3.7/dist-packages)\u001b[0m\n",
            "\u001b[33mWARNING: Ignoring invalid distribution -ensorflow (/usr/local/lib/python3.7/dist-packages)\u001b[0m\n",
            "Collecting tensorflow<2.0,>=1.15.2\n",
            "  Downloading tensorflow-1.15.5-cp37-cp37m-manylinux2010_x86_64.whl (110.5 MB)\n",
            "\u001b[K     |████████████████████████████████| 110.5 MB 1.2 kB/s \n",
            "\u001b[?25hRequirement already satisfied: absl-py>=0.7.0 in /usr/local/lib/python3.7/dist-packages (from tensorflow<2.0,>=1.15.2) (0.12.0)\n",
            "Requirement already satisfied: keras-preprocessing>=1.0.5 in /usr/local/lib/python3.7/dist-packages (from tensorflow<2.0,>=1.15.2) (1.1.2)\n",
            "Collecting numpy<1.19.0,>=1.16.0\n",
            "  Downloading numpy-1.18.5-cp37-cp37m-manylinux1_x86_64.whl (20.1 MB)\n",
            "\u001b[K     |████████████████████████████████| 20.1 MB 1.4 MB/s \n",
            "\u001b[?25hRequirement already satisfied: wheel>=0.26 in /usr/local/lib/python3.7/dist-packages (from tensorflow<2.0,>=1.15.2) (0.37.0)\n",
            "Collecting gast==0.2.2\n",
            "  Downloading gast-0.2.2.tar.gz (10 kB)\n",
            "Requirement already satisfied: opt-einsum>=2.3.2 in /usr/local/lib/python3.7/dist-packages (from tensorflow<2.0,>=1.15.2) (3.3.0)\n",
            "Requirement already satisfied: termcolor>=1.1.0 in /usr/local/lib/python3.7/dist-packages (from tensorflow<2.0,>=1.15.2) (1.1.0)\n",
            "Requirement already satisfied: astor>=0.6.0 in /usr/local/lib/python3.7/dist-packages (from tensorflow<2.0,>=1.15.2) (0.8.1)\n",
            "Collecting tensorboard<1.16.0,>=1.15.0\n",
            "  Downloading tensorboard-1.15.0-py3-none-any.whl (3.8 MB)\n",
            "\u001b[K     |████████████████████████████████| 3.8 MB 45.1 MB/s \n",
            "\u001b[?25hRequirement already satisfied: google-pasta>=0.1.6 in /usr/local/lib/python3.7/dist-packages (from tensorflow<2.0,>=1.15.2) (0.2.0)\n",
            "Collecting tensorflow-estimator==1.15.1\n",
            "  Downloading tensorflow_estimator-1.15.1-py2.py3-none-any.whl (503 kB)\n",
            "\u001b[K     |████████████████████████████████| 503 kB 41.5 MB/s \n",
            "\u001b[?25hRequirement already satisfied: grpcio>=1.8.6 in /usr/local/lib/python3.7/dist-packages (from tensorflow<2.0,>=1.15.2) (1.41.0)\n",
            "Requirement already satisfied: keras-applications>=1.0.8 in /usr/local/lib/python3.7/dist-packages (from tensorflow<2.0,>=1.15.2) (1.0.8)\n",
            "Requirement already satisfied: protobuf>=3.6.1 in /usr/local/lib/python3.7/dist-packages (from tensorflow<2.0,>=1.15.2) (3.17.3)\n",
            "Collecting h5py<=2.10.0\n",
            "  Downloading h5py-2.10.0-cp37-cp37m-manylinux1_x86_64.whl (2.9 MB)\n",
            "\u001b[K     |████████████████████████████████| 2.9 MB 41.1 MB/s \n",
            "\u001b[?25hRequirement already satisfied: six>=1.10.0 in /usr/local/lib/python3.7/dist-packages (from tensorflow<2.0,>=1.15.2) (1.15.0)\n",
            "Requirement already satisfied: wrapt>=1.11.1 in /usr/local/lib/python3.7/dist-packages (from tensorflow<2.0,>=1.15.2) (1.12.1)\n",
            "Requirement already satisfied: setuptools>=41.0.0 in /usr/local/lib/python3.7/dist-packages (from tensorboard<1.16.0,>=1.15.0->tensorflow<2.0,>=1.15.2) (57.4.0)\n",
            "Requirement already satisfied: markdown>=2.6.8 in /usr/local/lib/python3.7/dist-packages (from tensorboard<1.16.0,>=1.15.0->tensorflow<2.0,>=1.15.2) (3.3.4)\n",
            "Requirement already satisfied: werkzeug>=0.11.15 in /usr/local/lib/python3.7/dist-packages (from tensorboard<1.16.0,>=1.15.0->tensorflow<2.0,>=1.15.2) (1.0.1)\n",
            "Requirement already satisfied: importlib-metadata in /usr/local/lib/python3.7/dist-packages (from markdown>=2.6.8->tensorboard<1.16.0,>=1.15.0->tensorflow<2.0,>=1.15.2) (4.2.0)\n",
            "Requirement already satisfied: zipp>=0.5 in /usr/local/lib/python3.7/dist-packages (from importlib-metadata->markdown>=2.6.8->tensorboard<1.16.0,>=1.15.0->tensorflow<2.0,>=1.15.2) (3.6.0)\n",
            "Requirement already satisfied: typing-extensions>=3.6.4 in /usr/local/lib/python3.7/dist-packages (from importlib-metadata->markdown>=2.6.8->tensorboard<1.16.0,>=1.15.0->tensorflow<2.0,>=1.15.2) (3.7.4.3)\n",
            "Building wheels for collected packages: gast\n",
            "  Building wheel for gast (setup.py) ... \u001b[?25l\u001b[?25hdone\n",
            "  Created wheel for gast: filename=gast-0.2.2-py3-none-any.whl size=7554 sha256=524e3595da00fc4fe8ac29af5cf978295789da5af5abcdd84db174b773137889\n",
            "  Stored in directory: /root/.cache/pip/wheels/21/7f/02/420f32a803f7d0967b48dd823da3f558c5166991bfd204eef3\n",
            "Successfully built gast\n",
            "\u001b[33mWARNING: Ignoring invalid distribution -ensorflow (/usr/local/lib/python3.7/dist-packages)\u001b[0m\n",
            "Installing collected packages: numpy, h5py, tensorflow-estimator, tensorboard, gast, tensorflow\n",
            "  Attempting uninstall: numpy\n",
            "\u001b[33m    WARNING: Ignoring invalid distribution -ensorflow (/usr/local/lib/python3.7/dist-packages)\u001b[0m\n",
            "    Found existing installation: numpy 1.19.5\n",
            "    Uninstalling numpy-1.19.5:\n",
            "      Successfully uninstalled numpy-1.19.5\n",
            "  Attempting uninstall: h5py\n",
            "\u001b[33m    WARNING: Ignoring invalid distribution -ensorflow (/usr/local/lib/python3.7/dist-packages)\u001b[0m\n",
            "    Found existing installation: h5py 3.1.0\n",
            "    Uninstalling h5py-3.1.0:\n",
            "      Successfully uninstalled h5py-3.1.0\n",
            "  Attempting uninstall: tensorflow-estimator\n",
            "\u001b[33m    WARNING: Ignoring invalid distribution -ensorflow (/usr/local/lib/python3.7/dist-packages)\u001b[0m\n",
            "    Found existing installation: tensorflow-estimator 1.13.0\n",
            "    Uninstalling tensorflow-estimator-1.13.0:\n",
            "      Successfully uninstalled tensorflow-estimator-1.13.0\n",
            "  Attempting uninstall: tensorboard\n",
            "\u001b[33m    WARNING: Ignoring invalid distribution -ensorflow (/usr/local/lib/python3.7/dist-packages)\u001b[0m\n",
            "    Found existing installation: tensorboard 1.13.1\n",
            "    Uninstalling tensorboard-1.13.1:\n",
            "      Successfully uninstalled tensorboard-1.13.1\n",
            "  Attempting uninstall: gast\n",
            "\u001b[33m    WARNING: Ignoring invalid distribution -ensorflow (/usr/local/lib/python3.7/dist-packages)\u001b[0m\n",
            "    Found existing installation: gast 0.4.0\n",
            "    Uninstalling gast-0.4.0:\n",
            "      Successfully uninstalled gast-0.4.0\n",
            "  Attempting uninstall: tensorflow\n",
            "\u001b[33m    WARNING: Ignoring invalid distribution -ensorflow (/usr/local/lib/python3.7/dist-packages)\u001b[0m\n",
            "    Found existing installation: tensorflow 1.13.2\n",
            "    Uninstalling tensorflow-1.13.2:\n",
            "      Successfully uninstalled tensorflow-1.13.2\n",
            "\u001b[33mWARNING: Ignoring invalid distribution -ensorflow (/usr/local/lib/python3.7/dist-packages)\u001b[0m\n",
            "\u001b[33mWARNING: Ignoring invalid distribution -ensorflow (/usr/local/lib/python3.7/dist-packages)\u001b[0m\n",
            "\u001b[33mWARNING: Ignoring invalid distribution -ensorflow (/usr/local/lib/python3.7/dist-packages)\u001b[0m\n",
            "\u001b[33mWARNING: Ignoring invalid distribution -ensorflow (/usr/local/lib/python3.7/dist-packages)\u001b[0m\n",
            "\u001b[33mWARNING: Ignoring invalid distribution -ensorflow (/usr/local/lib/python3.7/dist-packages)\u001b[0m\n",
            "\u001b[33mWARNING: Ignoring invalid distribution -ensorflow (/usr/local/lib/python3.7/dist-packages)\u001b[0m\n",
            "\u001b[31mERROR: pip's dependency resolver does not currently take into account all the packages that are installed. This behaviour is the source of the following dependency conflicts.\n",
            "tensorflow-probability 0.14.1 requires gast>=0.3.2, but you have gast 0.2.2 which is incompatible.\n",
            "kapre 0.3.5 requires tensorflow>=2.0.0, but you have tensorflow 1.15.5 which is incompatible.\n",
            "datascience 0.10.6 requires folium==0.2.1, but you have folium 0.8.3 which is incompatible.\n",
            "albumentations 0.1.12 requires imgaug<0.2.7,>=0.2.5, but you have imgaug 0.2.9 which is incompatible.\u001b[0m\n",
            "Successfully installed gast-0.2.2 h5py-2.10.0 numpy-1.18.5 tensorboard-1.15.0 tensorflow-1.15.5 tensorflow-estimator-1.15.1\n"
          ]
        },
        {
          "output_type": "display_data",
          "data": {
            "application/vnd.colab-display-data+json": {
              "pip_warning": {
                "packages": [
                  "gast",
                  "h5py",
                  "numpy"
                ]
              }
            }
          },
          "metadata": {}
        }
      ]
    },
    {
      "cell_type": "markdown",
      "metadata": {
        "id": "a9rVtFm2aWLr"
      },
      "source": [
        "---\n",
        "# Getting Started with AmpliGraph\n",
        "---\n",
        "In this tutorial we will demonstrate how to use the AmpliGraph library. \n",
        "\n",
        "Things we will cover:\n",
        "\n",
        "1. Exploration of a graph dataset\n",
        "2. Splitting graph datasets into train and test sets\n",
        "3. Training a model\n",
        "4. Model selection and hyper-parameter search \n",
        "5. Saving and restoring a model\n",
        "6. Evaluating a model\n",
        "7. Using link prediction to discover unknown relations\n",
        "8. Visualizing embeddings using Tensorboard\n",
        "\n",
        "---\n",
        "\n",
        "## Requirements\n",
        "\n",
        "A Python environment with the AmpliGraph library installed. Please follow [the install guide](http://docs.ampligraph.org/en/latest/install.html).\n",
        "\n"
      ]
    },
    {
      "cell_type": "markdown",
      "metadata": {
        "id": "ezVneYnMaWLv"
      },
      "source": [
        "Some sanity check:"
      ]
    },
    {
      "cell_type": "code",
      "metadata": {
        "id": "aEz96HlMaWLw",
        "outputId": "993fd009-afc9-4024-c321-9ad7bb32ce99",
        "colab": {
          "base_uri": "https://localhost:8080/",
          "height": 37
        }
      },
      "source": [
        "import numpy as np\n",
        "import pandas as pd\n",
        "import ampligraph\n",
        "\n",
        "ampligraph.__version__"
      ],
      "execution_count": 1,
      "outputs": [
        {
          "output_type": "execute_result",
          "data": {
            "application/vnd.google.colaboratory.intrinsic+json": {
              "type": "string"
            },
            "text/plain": [
              "'1.4.0'"
            ]
          },
          "metadata": {},
          "execution_count": 1
        }
      ]
    },
    {
      "cell_type": "markdown",
      "metadata": {
        "id": "Th8oBrXMaWLy"
      },
      "source": [
        "## 1. Dataset exploration"
      ]
    },
    {
      "cell_type": "markdown",
      "metadata": {
        "id": "mJnUo74_aWLz"
      },
      "source": [
        "First things first! Lets import the required libraries and retrieve some data.\n",
        "\n",
        "In this tutorial we're going to use the [**Game of Thrones knowledge Graph**](https://ampligraph.s3-eu-west-1.amazonaws.com/datasets/GoT.csv). Please note: this isn't the *greatest* dataset for demonstrating the power of knowledge graph embeddings, but is small, intuitive and should be familiar to most users. \n",
        "\n",
        "We downloaded the [neo4j graph published here](https://github.com/neo4j-examples/game-of-thrones). Such dataset has been generated using [these APIs](https://anapioficeandfire.com/)  which expose in a machine-readable fashion the content of open free sources such as A [Wiki of Ice and Fire](http://awoiaf.westeros.org/). We discarded all properties and saved all the directed, labeled relations in a plaintext file. Each relation (i.e. a triple) is in the form: \n",
        "\n",
        "    <subject, predicate, object>\n",
        "\n",
        "The schema of the graph looks like this (image from [neo4j-examples/game-of-thrones](https://github.com/neo4j-examples/game-of-thrones)):\n",
        "\n",
        "![](https://github.com/Accenture/AmpliGraph/blob/master/docs/tutorials/img/got-graphql-schema.jpg?raw=1)\n",
        "\n",
        "Run the following cell to pull down the dataset and load it in memory with AmpliGraph [`load_from_csv()`](http://docs.ampligraph.org/en/1.0.3/generated/ampligraph.datasets.load_from_csv.html#ampligraph.datasets.load_from_csv) utility function:"
      ]
    },
    {
      "cell_type": "code",
      "metadata": {
        "id": "lfn_CijiaWLz",
        "outputId": "19eb18c4-e073-4f92-8662-14591060d586",
        "colab": {
          "base_uri": "https://localhost:8080/"
        }
      },
      "source": [
        "import requests\n",
        "from ampligraph.datasets import load_from_csv\n",
        "\n",
        "url = 'https://ampligraph.s3-eu-west-1.amazonaws.com/datasets/GoT.csv'\n",
        "open('GoT.csv', 'wb').write(requests.get(url).content)\n",
        "X = load_from_csv('.', 'GoT.csv', sep=',')\n",
        "X[:5, ]"
      ],
      "execution_count": 2,
      "outputs": [
        {
          "output_type": "execute_result",
          "data": {
            "text/plain": [
              "array([['Smithyton', 'SEAT_OF', 'House Shermer of Smithyton'],\n",
              "       ['House Mormont of Bear Island', 'LED_BY', 'Maege Mormont'],\n",
              "       ['Margaery Tyrell', 'SPOUSE', 'Joffrey Baratheon'],\n",
              "       ['Maron Nymeros Martell', 'ALLIED_WITH',\n",
              "        'House Nymeros Martell of Sunspear'],\n",
              "       ['House Gargalen of Salt Shore', 'IN_REGION', 'Dorne']],\n",
              "      dtype=object)"
            ]
          },
          "metadata": {},
          "execution_count": 2
        }
      ]
    },
    {
      "cell_type": "markdown",
      "metadata": {
        "id": "rdEuW-8LaWL0"
      },
      "source": [
        "Let's list the subject and object entities found in the dataset:"
      ]
    },
    {
      "cell_type": "code",
      "metadata": {
        "id": "Wc2EeN03aWL0",
        "outputId": "c27de3bd-061c-4790-e9f4-9ce4e9982097",
        "colab": {
          "base_uri": "https://localhost:8080/"
        }
      },
      "source": [
        "entities = np.unique(np.concatenate([X[:, 0], X[:, 2]]))\n",
        "entities"
      ],
      "execution_count": 3,
      "outputs": [
        {
          "output_type": "execute_result",
          "data": {
            "text/plain": [
              "array(['Abelar Hightower', 'Acorn Hall', 'Addam Frey', ..., 'the Antlers',\n",
              "       'the Paps', 'unnamed tower'], dtype=object)"
            ]
          },
          "metadata": {},
          "execution_count": 3
        }
      ]
    },
    {
      "cell_type": "markdown",
      "metadata": {
        "id": "DwaRmK0XaWL1"
      },
      "source": [
        ".. and all of the relationships that link them. Remember, these relationships only link *some* of the entities."
      ]
    },
    {
      "cell_type": "code",
      "metadata": {
        "id": "YuPrkG3CaWL1",
        "outputId": "35bd2790-e446-45d8-c83c-ab80e9d94c7f",
        "colab": {
          "base_uri": "https://localhost:8080/"
        }
      },
      "source": [
        "relations = np.unique(X[:, 1])\n",
        "relations"
      ],
      "execution_count": 4,
      "outputs": [
        {
          "output_type": "execute_result",
          "data": {
            "text/plain": [
              "array(['ALLIED_WITH', 'BRANCH_OF', 'FOUNDED_BY', 'HEIR_TO', 'IN_REGION',\n",
              "       'LED_BY', 'PARENT_OF', 'SEAT_OF', 'SPOUSE', 'SWORN_TO'],\n",
              "      dtype=object)"
            ]
          },
          "metadata": {},
          "execution_count": 4
        }
      ]
    },
    {
      "cell_type": "markdown",
      "metadata": {
        "id": "Au-Lv5EIaWL2"
      },
      "source": [
        "# 2. Defining train and test datasets"
      ]
    },
    {
      "cell_type": "markdown",
      "metadata": {
        "id": "UtXfJ1_PaWL2"
      },
      "source": [
        "As is typical in machine learning, we need to split our dataset into training and test (and sometimes validation) datasets. \n",
        "\n",
        "What differs from the standard method of randomly sampling N points to make up our test set, is that our data points are two entities linked by some relationship, and we need to take care to ensure that all entities are represented in train and test sets by at least one triple. \n",
        "\n",
        "To accomplish this, AmpliGraph provides the [`train_test_split_no_unseen`](https://docs.ampligraph.org/en/latest/generated/ampligraph.evaluation.train_test_split_no_unseen.html#train-test-split-no-unseen) function.  \n",
        "\n",
        "For sake of example, we will create a small test size that includes only 100 triples:"
      ]
    },
    {
      "cell_type": "code",
      "metadata": {
        "id": "QXp6Q2DHaWL3"
      },
      "source": [
        "from ampligraph.evaluation import train_test_split_no_unseen \n",
        "\n",
        "X_train, X_test = train_test_split_no_unseen(X, test_size=100) "
      ],
      "execution_count": 5,
      "outputs": []
    },
    {
      "cell_type": "markdown",
      "metadata": {
        "id": "WZ0SrKDjaWL3"
      },
      "source": [
        "Our data is now split into train/test sets. If we need to further divide into a validation dataset we can just repeat using the same procedure on the test set (and adjusting the split percentages). "
      ]
    },
    {
      "cell_type": "code",
      "metadata": {
        "id": "GU4c_bPUaWL3",
        "outputId": "f70af3ef-8e4e-47c0-b053-226f4180b51f",
        "colab": {
          "base_uri": "https://localhost:8080/"
        }
      },
      "source": [
        "print('Train set size: ', X_train.shape)\n",
        "print('Test set size: ', X_test.shape)"
      ],
      "execution_count": 6,
      "outputs": [
        {
          "output_type": "stream",
          "name": "stdout",
          "text": [
            "Train set size:  (3075, 3)\n",
            "Test set size:  (100, 3)\n"
          ]
        }
      ]
    },
    {
      "cell_type": "markdown",
      "metadata": {
        "id": "2na_IiQ1aWL4"
      },
      "source": [
        "---\n",
        "# 3. Training a model \n",
        "\n",
        "AmpliGraph has implemented [several Knoweldge Graph Embedding models](https://docs.ampligraph.org/en/latest/ampligraph.latent_features.html#knowledge-graph-embedding-models) (TransE, ComplEx, DistMult, HolE), but to begin with we're just going to use the [ComplEx](https://docs.ampligraph.org/en/latest/generated/ampligraph.latent_features.ComplEx.html#ampligraph.latent_features.ComplEx) model (with  default values), so lets import that:"
      ]
    },
    {
      "cell_type": "code",
      "metadata": {
        "id": "3LCXPK-3aWL5"
      },
      "source": [
        "from ampligraph.latent_features import ComplEx"
      ],
      "execution_count": 7,
      "outputs": []
    },
    {
      "cell_type": "markdown",
      "metadata": {
        "id": "Y7P0KcP9aWL5"
      },
      "source": [
        "Lets go through the parameters to understand what's going on:\n",
        "\n",
        "- **`k`** : the dimensionality of the embedding space\n",
        "- **`eta`** ($\\eta$) : the number of negative, or false triples that must be generated at training runtime for each positive, or true triple\n",
        "- **`batches_count`** : the number of batches in which the training set is split during the training loop. If you are having into low memory issues than settings this to a higher number may help.\n",
        "- **`epochs`** : the number of epochs to train the model for.\n",
        "- **`optimizer`** : the Adam optimizer, with a learning rate of 1e-3 set via the *optimizer_params* kwarg.\n",
        "- **`loss`** : pairwise loss, with a margin of 0.5 set via the *loss_params* kwarg.\n",
        "- **`regularizer`** : $L_p$ regularization with $p=2$, i.e. l2 regularization. $\\lambda$ = 1e-5, set via the *regularizer_params* kwarg. \n",
        "\n",
        "Now we can instantiate the model:\n"
      ]
    },
    {
      "cell_type": "code",
      "metadata": {
        "id": "JO8gASdbaWL5"
      },
      "source": [
        "model = ComplEx(batches_count=100, \n",
        "                seed=0, \n",
        "                epochs=200, \n",
        "                k=150, \n",
        "                eta=5,\n",
        "                optimizer='adam', \n",
        "                optimizer_params={'lr':1e-3},\n",
        "                loss='multiclass_nll', \n",
        "                regularizer='LP', \n",
        "                regularizer_params={'p':3, 'lambda':1e-5}, \n",
        "                verbose=True)"
      ],
      "execution_count": 8,
      "outputs": []
    },
    {
      "cell_type": "markdown",
      "metadata": {
        "id": "Jhlaug9-aWL6"
      },
      "source": [
        "## Filtering negatives\n",
        "\n",
        "AmpliGraph aims to follow scikit-learn's ease-of-use design philosophy and simplify everything down to **`fit`**, **`evaluate`**, and **`predict`** functions. \n",
        "\n",
        "However, there are some knowledge graph specific steps we must take to ensure our model can be trained and evaluated correctly. The first of these is defining the filter that will be used to ensure that no *negative* statements generated by the corruption procedure are actually positives. This is simply done by concatenating our train and test sets. Now when negative triples are generated by the corruption strategy, we can check that they aren't actually true statements.  \n"
      ]
    },
    {
      "cell_type": "code",
      "metadata": {
        "id": "sGDcYKJiaWL6"
      },
      "source": [
        "positives_filter = X"
      ],
      "execution_count": 9,
      "outputs": []
    },
    {
      "cell_type": "markdown",
      "metadata": {
        "id": "4jBbsYbQaWL6"
      },
      "source": [
        "## Fitting the model\n",
        "\n",
        "Once you run the next cell the model will train. \n",
        "\n",
        "On a modern laptop this should take ~3 minutes (although your mileage may vary, especially if you've changed any of the hyper-parameters above)."
      ]
    },
    {
      "cell_type": "code",
      "metadata": {
        "id": "7bL8oy1faWL7",
        "outputId": "a904e4eb-04da-4f0c-a7e2-ca528a36c024",
        "colab": {
          "base_uri": "https://localhost:8080/"
        }
      },
      "source": [
        "import tensorflow as tf\n",
        "tf.logging.set_verbosity(tf.logging.ERROR)\n",
        "\n",
        "model.fit(X_train, early_stopping = False)"
      ],
      "execution_count": 10,
      "outputs": [
        {
          "output_type": "stream",
          "name": "stderr",
          "text": [
            "Average ComplEx Loss:   0.018132: 100%|██████████| 200/200 [02:38<00:00,  1.26epoch/s]\n"
          ]
        }
      ]
    },
    {
      "cell_type": "markdown",
      "metadata": {
        "id": "MY7khcbQaWL7"
      },
      "source": [
        "---\n",
        "# 5.  Saving and restoring a model\n",
        "\n",
        "Before we go any further, let's save the best model found so that we can restore it in future."
      ]
    },
    {
      "cell_type": "code",
      "metadata": {
        "id": "e8xd-ehwaWL8"
      },
      "source": [
        "from ampligraph.latent_features import save_model, restore_model"
      ],
      "execution_count": 11,
      "outputs": []
    },
    {
      "cell_type": "code",
      "metadata": {
        "id": "YqqXsNzhaWL8"
      },
      "source": [
        "save_model(model, './best_model.pkl')"
      ],
      "execution_count": 12,
      "outputs": []
    },
    {
      "cell_type": "markdown",
      "metadata": {
        "id": "VIZVLHizaWL9"
      },
      "source": [
        "This will save the model in the ampligraph_tutorial directory as `best_model.pkl`."
      ]
    },
    {
      "cell_type": "markdown",
      "metadata": {
        "id": "CCUGW1NraWL9"
      },
      "source": [
        ".. we can then delete the model .. "
      ]
    },
    {
      "cell_type": "code",
      "metadata": {
        "id": "WspJ0235aWL9"
      },
      "source": [
        "del model"
      ],
      "execution_count": 13,
      "outputs": []
    },
    {
      "cell_type": "markdown",
      "metadata": {
        "id": "OiopobHXaWL-"
      },
      "source": [
        ".. and then restore it from disk! Ta-da! "
      ]
    },
    {
      "cell_type": "code",
      "metadata": {
        "id": "iw_zuHyiaWL-"
      },
      "source": [
        "model = restore_model('./best_model.pkl')"
      ],
      "execution_count": 14,
      "outputs": []
    },
    {
      "cell_type": "markdown",
      "metadata": {
        "id": "oWRLWBH2aWL_"
      },
      "source": [
        "And let's just double check that the model we restored has been fit:"
      ]
    },
    {
      "cell_type": "code",
      "metadata": {
        "id": "NINxNAYvaWMA",
        "outputId": "95d0b9d6-0e03-4854-ce81-9eb83b2619e1",
        "colab": {
          "base_uri": "https://localhost:8080/"
        }
      },
      "source": [
        "if model.is_fitted:\n",
        "    print('The model is fit!')\n",
        "else:\n",
        "    print('The model is not fit! Did you skip a step?')"
      ],
      "execution_count": 15,
      "outputs": [
        {
          "output_type": "stream",
          "name": "stdout",
          "text": [
            "The model is fit!\n"
          ]
        }
      ]
    },
    {
      "cell_type": "markdown",
      "metadata": {
        "id": "gxUipviIaWMC"
      },
      "source": [
        "---\n",
        "# 6. Evaluating a model\n",
        "\n",
        "Now it's time to evaluate our model on the test set to see how well it's performing. \n",
        "\n",
        "For this we'll use the `evaluate_performance` function:"
      ]
    },
    {
      "cell_type": "code",
      "metadata": {
        "id": "kgL76KiMaWMD"
      },
      "source": [
        "from ampligraph.evaluation import evaluate_performance"
      ],
      "execution_count": 16,
      "outputs": []
    },
    {
      "cell_type": "markdown",
      "metadata": {
        "id": "xWNAYbTuaWME"
      },
      "source": [
        "And let's look at the arguments to this function:\n",
        "\n",
        "- **`X`** - the data to evaluate on. We're going to use our test set to evaluate.\n",
        "- **`model`** - the model we previously trained.\n",
        "- **`filter_triples`** - will filter out the false negatives generated by the corruption strategy. \n",
        "- **`use_default_protocol`** - specifies whether to use the default corruption protocol. If True, then subj and obj are corrupted separately during evaluation.\n",
        "- **`verbose`** - will give some nice log statements. Let's leave it on for now.\n"
      ]
    },
    {
      "cell_type": "markdown",
      "metadata": {
        "id": "A3qVOS7NaWMF"
      },
      "source": [
        "## Running evaluation"
      ]
    },
    {
      "cell_type": "code",
      "metadata": {
        "id": "E9xSnbBQaWMF",
        "outputId": "0b99a715-08eb-4895-b2d3-a96a55b01ddc",
        "colab": {
          "base_uri": "https://localhost:8080/"
        }
      },
      "source": [
        "ranks = evaluate_performance(X_test, \n",
        "                             model=model, \n",
        "                             filter_triples=positives_filter,   # Corruption strategy filter defined above \n",
        "                             use_default_protocol=True, # corrupt subj and obj separately while evaluating\n",
        "                             verbose=True)"
      ],
      "execution_count": 17,
      "outputs": [
        {
          "output_type": "stream",
          "name": "stdout",
          "text": [
            "WARNING - DeprecationWarning: use_default_protocol will be removed in future. Please use corrupt_side argument instead.\n"
          ]
        },
        {
          "output_type": "stream",
          "name": "stderr",
          "text": [
            "100%|██████████| 100/100 [00:01<00:00, 85.74it/s]\n"
          ]
        }
      ]
    },
    {
      "cell_type": "markdown",
      "metadata": {
        "id": "cWTOEfI5aWMF"
      },
      "source": [
        "\n",
        "The ***ranks*** returned by the evaluate_performance function indicate the rank at which the test set triple was found when performing link prediction using the model. \n",
        "\n",
        "For example, given the triple:\n",
        "\n",
        "    <House Stark of Winterfell, IN_REGION The North>\n",
        "    \n",
        "The model returns a rank of 7. This tells us that while it's not the highest likelihood true statement (which would be given a rank 1), it's pretty likely.\n"
      ]
    },
    {
      "cell_type": "markdown",
      "metadata": {
        "id": "lMvUOspbaWMG"
      },
      "source": [
        "## Metrics"
      ]
    },
    {
      "cell_type": "markdown",
      "metadata": {
        "id": "4Gobk4oxaWMG"
      },
      "source": [
        "Let's compute some evaluate metrics and print them out.\n",
        "\n",
        "We're going to use the mrr_score (mean reciprocal rank) and hits_at_n_score functions. \n",
        "\n",
        "- ***mrr_score***:  The function computes the mean of the reciprocal of elements of a vector of rankings ranks.\n",
        "- ***hits_at_n_score***: The function computes how many elements of a vector of rankings ranks make it to the top n positions.\n"
      ]
    },
    {
      "cell_type": "code",
      "metadata": {
        "id": "4xGw_3n2aWMG",
        "outputId": "4055d155-3982-4b54-816e-30b09e5303ae",
        "colab": {
          "base_uri": "https://localhost:8080/"
        }
      },
      "source": [
        "from ampligraph.evaluation import mr_score, mrr_score, hits_at_n_score\n",
        "\n",
        "mrr = mrr_score(ranks)\n",
        "print(\"MRR: %.2f\" % (mrr))\n",
        "\n",
        "hits_10 = hits_at_n_score(ranks, n=10)\n",
        "print(\"Hits@10: %.2f\" % (hits_10))\n",
        "hits_3 = hits_at_n_score(ranks, n=3)\n",
        "print(\"Hits@3: %.2f\" % (hits_3))\n",
        "hits_1 = hits_at_n_score(ranks, n=1)\n",
        "print(\"Hits@1: %.2f\" % (hits_1))"
      ],
      "execution_count": 18,
      "outputs": [
        {
          "output_type": "stream",
          "name": "stdout",
          "text": [
            "MRR: 0.44\n",
            "Hits@10: 0.57\n",
            "Hits@3: 0.46\n",
            "Hits@1: 0.36\n"
          ]
        }
      ]
    },
    {
      "cell_type": "markdown",
      "metadata": {
        "id": "zh3qxj3TaWMH"
      },
      "source": [
        "Now, how do we interpret those numbers? \n",
        "\n",
        "[Hits@N](http://docs.ampligraph.org/en/1.0.3/generated/ampligraph.evaluation.hits_at_n_score.html#ampligraph.evaluation.hits_at_n_score) indicates how many times in average a true triple was ranked in the top-N. Therefore, on average, we guessed the correct subject or object 53% of the time when considering the top-3 better ranked triples. The choice of which N makes more sense depends on the application.\n",
        "\n",
        "The [Mean Reciprocal Rank (MRR)](http://docs.ampligraph.org/en/latest/generated/ampligraph.evaluation.mrr_score.html) is another popular metrics to assess the predictive power of a model."
      ]
    },
    {
      "cell_type": "markdown",
      "metadata": {
        "id": "7qU9Yfp5aWMI"
      },
      "source": [
        "\n",
        "# 7. Predicting New Links\n",
        "\n",
        "Link prediction allows us to infer missing links in a graph. This has many real-world use cases, such as predicting connections between people in a social network, interactions between proteins in a biological network, and music recommendation based on prior user taste. \n",
        "\n",
        "In our case, we're going to see which of the following candidate statements (that we made up) are more likely to be true:\n"
      ]
    },
    {
      "cell_type": "code",
      "metadata": {
        "id": "g-TOgaIjaWMI"
      },
      "source": [
        "X_unseen = np.array([\n",
        "    ['Jorah Mormont', 'SPOUSE', 'Daenerys Targaryen'],\n",
        "    ['Tyrion Lannister', 'SPOUSE', 'Missandei'],\n",
        "    [\"King's Landing\", 'SEAT_OF', 'House Lannister of Casterly Rock'],\n",
        "    ['Sansa Stark', 'SPOUSE', 'Petyr Baelish'],\n",
        "    ['Daenerys Targaryen', 'SPOUSE', 'Jon Snow'],\n",
        "    ['Daenerys Targaryen', 'SPOUSE', 'Craster'],\n",
        "    ['House Stark of Winterfell', 'IN_REGION', 'The North'],\n",
        "    ['House Stark of Winterfell', 'IN_REGION', 'Dorne'],\n",
        "    ['House Tyrell of Highgarden', 'IN_REGION', 'Beyond the Wall'],\n",
        "    ['Brandon Stark', 'ALLIED_WITH', 'House Stark of Winterfell'],\n",
        "    ['Brandon Stark', 'ALLIED_WITH', 'House Lannister of Casterly Rock'],    \n",
        "    ['Rhaegar Targaryen', 'PARENT_OF', 'Jon Snow'],\n",
        "    ['House Hutcheson', 'SWORN_TO', 'House Tyrell of Highgarden'],\n",
        "    ['Daenerys Targaryen', 'ALLIED_WITH', 'House Stark of Winterfell'],\n",
        "    ['Daenerys Targaryen', 'ALLIED_WITH', 'House Lannister of Casterly Rock'],\n",
        "    ['Jaime Lannister', 'PARENT_OF', 'Myrcella Baratheon'],\n",
        "    ['Robert I Baratheon', 'PARENT_OF', 'Myrcella Baratheon'],\n",
        "    ['Cersei Lannister', 'PARENT_OF', 'Myrcella Baratheon'],\n",
        "    ['Cersei Lannister', 'PARENT_OF', 'Brandon Stark'],\n",
        "    [\"Tywin Lannister\", 'PARENT_OF', 'Jaime Lannister'],\n",
        "    [\"Missandei\", 'SPOUSE', 'Grey Worm'],\n",
        "    [\"Brienne of Tarth\", 'SPOUSE', 'Jaime Lannister']\n",
        "])"
      ],
      "execution_count": 19,
      "outputs": []
    },
    {
      "cell_type": "code",
      "metadata": {
        "id": "QWNaY4NJaWMI"
      },
      "source": [
        "unseen_filter = np.array(list({tuple(i) for i in np.vstack((positives_filter, X_unseen))}))"
      ],
      "execution_count": 20,
      "outputs": []
    },
    {
      "cell_type": "code",
      "metadata": {
        "id": "w6vK0GsgaWMI",
        "outputId": "20a72923-942f-4121-a93a-dc1755d72f70",
        "colab": {
          "base_uri": "https://localhost:8080/"
        }
      },
      "source": [
        "ranks_unseen = evaluate_performance(\n",
        "    X_unseen, \n",
        "    model=model, \n",
        "    filter_triples=unseen_filter,   # Corruption strategy filter defined above \n",
        "    corrupt_side = 's+o',\n",
        "    use_default_protocol=False, # corrupt subj and obj separately while evaluating\n",
        "    verbose=True\n",
        ")"
      ],
      "execution_count": 21,
      "outputs": [
        {
          "output_type": "stream",
          "name": "stderr",
          "text": [
            "100%|██████████| 22/22 [00:00<00:00, 74.98it/s]\n"
          ]
        }
      ]
    },
    {
      "cell_type": "code",
      "metadata": {
        "id": "dkN7g8EwaWMJ"
      },
      "source": [
        "scores = model.predict(X_unseen)"
      ],
      "execution_count": 22,
      "outputs": []
    },
    {
      "cell_type": "markdown",
      "metadata": {
        "id": "Y7r1JNC2aWMJ"
      },
      "source": [
        "We transform the scores (real numbers) into probabilities (bound between 0 and 1) using the expit transform.\n",
        "\n",
        "Note that the probabilities are not calibrated in any sense. \n",
        "\n",
        "Advanced note: To calibrate the probabilities, one may use a procedure such as [Platt scaling](https://en.wikipedia.org/wiki/Platt_scaling) or [Isotonic regression](https://en.wikipedia.org/wiki/Isotonic_regression). The challenge is to define what is a true triple and what is a false one, as the calibration of the probability of a triple being true depends on the base rate of positives and negatives."
      ]
    },
    {
      "cell_type": "code",
      "metadata": {
        "id": "V8966VWgaWMJ"
      },
      "source": [
        "from scipy.special import expit\n",
        "probs = expit(scores)"
      ],
      "execution_count": 23,
      "outputs": []
    },
    {
      "cell_type": "code",
      "metadata": {
        "scrolled": false,
        "id": "Dn0fw0UhaWMK",
        "outputId": "35cd5bd5-8e8f-4a28-b4de-ab107f806939",
        "colab": {
          "base_uri": "https://localhost:8080/",
          "height": 731
        }
      },
      "source": [
        "pd.DataFrame(list(zip([' '.join(x) for x in X_unseen], \n",
        "                      ranks_unseen, \n",
        "                      np.squeeze(scores),\n",
        "                      np.squeeze(probs))), \n",
        "             columns=['statement', 'rank', 'score', 'prob']).sort_values(\"score\")"
      ],
      "execution_count": 24,
      "outputs": [
        {
          "output_type": "execute_result",
          "data": {
            "text/html": [
              "<div>\n",
              "<style scoped>\n",
              "    .dataframe tbody tr th:only-of-type {\n",
              "        vertical-align: middle;\n",
              "    }\n",
              "\n",
              "    .dataframe tbody tr th {\n",
              "        vertical-align: top;\n",
              "    }\n",
              "\n",
              "    .dataframe thead th {\n",
              "        text-align: right;\n",
              "    }\n",
              "</style>\n",
              "<table border=\"1\" class=\"dataframe\">\n",
              "  <thead>\n",
              "    <tr style=\"text-align: right;\">\n",
              "      <th></th>\n",
              "      <th>statement</th>\n",
              "      <th>rank</th>\n",
              "      <th>score</th>\n",
              "      <th>prob</th>\n",
              "    </tr>\n",
              "  </thead>\n",
              "  <tbody>\n",
              "    <tr>\n",
              "      <th>10</th>\n",
              "      <td>Brandon Stark ALLIED_WITH House Lannister of C...</td>\n",
              "      <td>3998</td>\n",
              "      <td>-2.925931</td>\n",
              "      <td>0.050887</td>\n",
              "    </tr>\n",
              "    <tr>\n",
              "      <th>18</th>\n",
              "      <td>Cersei Lannister PARENT_OF Brandon Stark</td>\n",
              "      <td>4079</td>\n",
              "      <td>-2.160654</td>\n",
              "      <td>0.103340</td>\n",
              "    </tr>\n",
              "    <tr>\n",
              "      <th>0</th>\n",
              "      <td>Jorah Mormont SPOUSE Daenerys Targaryen</td>\n",
              "      <td>3319</td>\n",
              "      <td>-0.859087</td>\n",
              "      <td>0.297530</td>\n",
              "    </tr>\n",
              "    <tr>\n",
              "      <th>1</th>\n",
              "      <td>Tyrion Lannister SPOUSE Missandei</td>\n",
              "      <td>2977</td>\n",
              "      <td>-0.542990</td>\n",
              "      <td>0.367492</td>\n",
              "    </tr>\n",
              "    <tr>\n",
              "      <th>5</th>\n",
              "      <td>Daenerys Targaryen SPOUSE Craster</td>\n",
              "      <td>2936</td>\n",
              "      <td>-0.535719</td>\n",
              "      <td>0.369184</td>\n",
              "    </tr>\n",
              "    <tr>\n",
              "      <th>7</th>\n",
              "      <td>House Stark of Winterfell IN_REGION Dorne</td>\n",
              "      <td>2504</td>\n",
              "      <td>-0.311247</td>\n",
              "      <td>0.422810</td>\n",
              "    </tr>\n",
              "    <tr>\n",
              "      <th>15</th>\n",
              "      <td>Jaime Lannister PARENT_OF Myrcella Baratheon</td>\n",
              "      <td>2817</td>\n",
              "      <td>-0.266181</td>\n",
              "      <td>0.433845</td>\n",
              "    </tr>\n",
              "    <tr>\n",
              "      <th>11</th>\n",
              "      <td>Rhaegar Targaryen PARENT_OF Jon Snow</td>\n",
              "      <td>3374</td>\n",
              "      <td>-0.232267</td>\n",
              "      <td>0.442193</td>\n",
              "    </tr>\n",
              "    <tr>\n",
              "      <th>4</th>\n",
              "      <td>Daenerys Targaryen SPOUSE Jon Snow</td>\n",
              "      <td>2309</td>\n",
              "      <td>-0.100004</td>\n",
              "      <td>0.475020</td>\n",
              "    </tr>\n",
              "    <tr>\n",
              "      <th>21</th>\n",
              "      <td>Brienne of Tarth SPOUSE Jaime Lannister</td>\n",
              "      <td>1938</td>\n",
              "      <td>-0.039282</td>\n",
              "      <td>0.490181</td>\n",
              "    </tr>\n",
              "    <tr>\n",
              "      <th>17</th>\n",
              "      <td>Cersei Lannister PARENT_OF Myrcella Baratheon</td>\n",
              "      <td>1658</td>\n",
              "      <td>0.111918</td>\n",
              "      <td>0.527950</td>\n",
              "    </tr>\n",
              "    <tr>\n",
              "      <th>8</th>\n",
              "      <td>House Tyrell of Highgarden IN_REGION Beyond th...</td>\n",
              "      <td>1180</td>\n",
              "      <td>0.196121</td>\n",
              "      <td>0.548874</td>\n",
              "    </tr>\n",
              "    <tr>\n",
              "      <th>2</th>\n",
              "      <td>King's Landing SEAT_OF House Lannister of Cast...</td>\n",
              "      <td>723</td>\n",
              "      <td>0.590554</td>\n",
              "      <td>0.643492</td>\n",
              "    </tr>\n",
              "    <tr>\n",
              "      <th>14</th>\n",
              "      <td>Daenerys Targaryen ALLIED_WITH House Lannister...</td>\n",
              "      <td>228</td>\n",
              "      <td>1.385463</td>\n",
              "      <td>0.799867</td>\n",
              "    </tr>\n",
              "    <tr>\n",
              "      <th>19</th>\n",
              "      <td>Tywin Lannister PARENT_OF Jaime Lannister</td>\n",
              "      <td>75</td>\n",
              "      <td>1.526637</td>\n",
              "      <td>0.821514</td>\n",
              "    </tr>\n",
              "    <tr>\n",
              "      <th>3</th>\n",
              "      <td>Sansa Stark SPOUSE Petyr Baelish</td>\n",
              "      <td>109</td>\n",
              "      <td>1.889832</td>\n",
              "      <td>0.868736</td>\n",
              "    </tr>\n",
              "    <tr>\n",
              "      <th>16</th>\n",
              "      <td>Robert I Baratheon PARENT_OF Myrcella Baratheon</td>\n",
              "      <td>18</td>\n",
              "      <td>1.951331</td>\n",
              "      <td>0.875592</td>\n",
              "    </tr>\n",
              "    <tr>\n",
              "      <th>6</th>\n",
              "      <td>House Stark of Winterfell IN_REGION The North</td>\n",
              "      <td>12</td>\n",
              "      <td>2.354563</td>\n",
              "      <td>0.913296</td>\n",
              "    </tr>\n",
              "    <tr>\n",
              "      <th>13</th>\n",
              "      <td>Daenerys Targaryen ALLIED_WITH House Stark of ...</td>\n",
              "      <td>63</td>\n",
              "      <td>2.374148</td>\n",
              "      <td>0.914835</td>\n",
              "    </tr>\n",
              "    <tr>\n",
              "      <th>20</th>\n",
              "      <td>Missandei SPOUSE Grey Worm</td>\n",
              "      <td>65</td>\n",
              "      <td>3.164472</td>\n",
              "      <td>0.959475</td>\n",
              "    </tr>\n",
              "    <tr>\n",
              "      <th>9</th>\n",
              "      <td>Brandon Stark ALLIED_WITH House Stark of Winte...</td>\n",
              "      <td>1</td>\n",
              "      <td>6.629963</td>\n",
              "      <td>0.998681</td>\n",
              "    </tr>\n",
              "    <tr>\n",
              "      <th>12</th>\n",
              "      <td>House Hutcheson SWORN_TO House Tyrell of Highg...</td>\n",
              "      <td>4</td>\n",
              "      <td>9.970955</td>\n",
              "      <td>0.999953</td>\n",
              "    </tr>\n",
              "  </tbody>\n",
              "</table>\n",
              "</div>"
            ],
            "text/plain": [
              "                                            statement  rank     score      prob\n",
              "10  Brandon Stark ALLIED_WITH House Lannister of C...  3998 -2.925931  0.050887\n",
              "18           Cersei Lannister PARENT_OF Brandon Stark  4079 -2.160654  0.103340\n",
              "0             Jorah Mormont SPOUSE Daenerys Targaryen  3319 -0.859087  0.297530\n",
              "1                   Tyrion Lannister SPOUSE Missandei  2977 -0.542990  0.367492\n",
              "5                   Daenerys Targaryen SPOUSE Craster  2936 -0.535719  0.369184\n",
              "7           House Stark of Winterfell IN_REGION Dorne  2504 -0.311247  0.422810\n",
              "15       Jaime Lannister PARENT_OF Myrcella Baratheon  2817 -0.266181  0.433845\n",
              "11               Rhaegar Targaryen PARENT_OF Jon Snow  3374 -0.232267  0.442193\n",
              "4                  Daenerys Targaryen SPOUSE Jon Snow  2309 -0.100004  0.475020\n",
              "21            Brienne of Tarth SPOUSE Jaime Lannister  1938 -0.039282  0.490181\n",
              "17      Cersei Lannister PARENT_OF Myrcella Baratheon  1658  0.111918  0.527950\n",
              "8   House Tyrell of Highgarden IN_REGION Beyond th...  1180  0.196121  0.548874\n",
              "2   King's Landing SEAT_OF House Lannister of Cast...   723  0.590554  0.643492\n",
              "14  Daenerys Targaryen ALLIED_WITH House Lannister...   228  1.385463  0.799867\n",
              "19          Tywin Lannister PARENT_OF Jaime Lannister    75  1.526637  0.821514\n",
              "3                    Sansa Stark SPOUSE Petyr Baelish   109  1.889832  0.868736\n",
              "16    Robert I Baratheon PARENT_OF Myrcella Baratheon    18  1.951331  0.875592\n",
              "6       House Stark of Winterfell IN_REGION The North    12  2.354563  0.913296\n",
              "13  Daenerys Targaryen ALLIED_WITH House Stark of ...    63  2.374148  0.914835\n",
              "20                         Missandei SPOUSE Grey Worm    65  3.164472  0.959475\n",
              "9   Brandon Stark ALLIED_WITH House Stark of Winte...     1  6.629963  0.998681\n",
              "12  House Hutcheson SWORN_TO House Tyrell of Highg...     4  9.970955  0.999953"
            ]
          },
          "metadata": {},
          "execution_count": 24
        }
      ]
    },
    {
      "cell_type": "markdown",
      "metadata": {
        "id": "f6UUffoRaWMK"
      },
      "source": [
        "We see that the embeddings captured some truths about Westeros. For example, **House Stark is placed in the North rather than Dorne**. It also realises **Daenerys Targaryen has no relation with Craster**, **nor Tyrion with Missandei**. It captures random trivia, as **House Hutcheson is indeed in the Reach and sworn to the Tyrells**. On the other hand, some marriages that it predicts never really happened. These mistakes are understandable: those characters were indeed close and appeared together in many different circumstances. "
      ]
    },
    {
      "cell_type": "markdown",
      "metadata": {
        "id": "fDOHH-MYaWMK"
      },
      "source": [
        "---\n",
        "# 8. Visualizing Embeddings with Tensorboard projector \n",
        "\n",
        "The kind folks at Google have created [Tensorboard](https://www.tensorflow.org/tensorboard), which allows us to graph how our model is learning (or .. not :|), peer into the innards of neural networks, and [visualize high-dimensional embeddings in the browser](https://projector.tensorflow.org/).   \n",
        "\n",
        "Lets import the [`create_tensorboard_visualization`](http://docs.ampligraph.org/en/1.0.3/generated/ampligraph.utils.create_tensorboard_visualizations.html#ampligraph.utils.create_tensorboard_visualizations) function, which simplifies the creation of the files necessary for Tensorboard to display the embeddings."
      ]
    },
    {
      "cell_type": "code",
      "metadata": {
        "id": "5vBkFNiPaWMK"
      },
      "source": [
        "from ampligraph.utils import create_tensorboard_visualizations"
      ],
      "execution_count": 25,
      "outputs": []
    },
    {
      "cell_type": "markdown",
      "metadata": {
        "id": "hXbrYeB6aWMK"
      },
      "source": [
        "And now we'll run the function with our model, specifying the output path:"
      ]
    },
    {
      "cell_type": "code",
      "metadata": {
        "id": "Skg8quILaWML"
      },
      "source": [
        "create_tensorboard_visualizations(model, 'GoT_embeddings')"
      ],
      "execution_count": 26,
      "outputs": []
    },
    {
      "cell_type": "markdown",
      "metadata": {
        "id": "b1S3nv2BaWML"
      },
      "source": [
        "If all went well, we should now have a number of files in the `AmpliGraph/tutorials/GoT_embeddings` directory:\n",
        "\n",
        "```\n",
        "GoT_embeddings/\n",
        "    ├── checkpoint\n",
        "    ├── embeddings_projector.tsv\n",
        "    ├── graph_embedding.ckpt.data-00000-of-00001\n",
        "    ├── graph_embedding.ckpt.index\n",
        "    ├── graph_embedding.ckpt.meta\n",
        "    ├── metadata.tsv\n",
        "    └── projector_config.pbtxt\n",
        "```\n",
        "\n",
        "To visualize the embeddings in Tensorboard, run the following from your command line inside `AmpliGraph/tutorials`:\n",
        "\n",
        "```bash\n",
        "tensorboard --logdir=./visualizations\n",
        "```\n",
        "    \n",
        ".. and once your browser opens up you should be able to see and explore your embeddings as below (PCA-reduced, two components):\n",
        "\n",
        "![](https://github.com/Accenture/AmpliGraph/blob/master/docs/tutorials/img/GoT_tensoboard.png?raw=1)\n",
        "\n",
        "\n",
        "\n",
        "\n",
        "---\n",
        "# The End\n",
        "\n",
        "You made it to the end! Well done!\n",
        "\n",
        "For more information please visit the [AmpliGraph GitHub](github.com/Accenture/AmpliGraph) (and remember to star the project!), or check out the [documentation](docs.ampligraph.org) \n",
        "\n",
        "---\n"
      ]
    }
  ]
}